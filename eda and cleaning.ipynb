{
 "cells": [
  {
   "cell_type": "code",
   "execution_count": 1,
   "metadata": {},
   "outputs": [],
   "source": [
    "# Import libraries\n",
    "import pandas as pd\n",
    "import zipfile\n",
    "import numpy as np\n",
    "import seaborn as sns\n",
    "import matplotlib.pyplot as plt\n",
    "import warnings\n",
    "\n",
    "# filter arbitrary warnings\n",
    "warnings.filterwarnings('ignore')"
   ]
  },
  {
   "cell_type": "code",
   "execution_count": 7,
   "metadata": {},
   "outputs": [
    {
     "name": "stdout",
     "output_type": "stream",
     "text": [
      "Downloading personal-key-indicators-of-heart-disease.zip to c:\\Users\\DELL\\Python files\\Heart attack prediction\n",
      "\n"
     ]
    },
    {
     "name": "stderr",
     "output_type": "stream",
     "text": [
      "\n",
      "  0%|          | 0.00/3.13M [00:00<?, ?B/s]\n",
      " 32%|███▏      | 1.00M/3.13M [00:00<00:00, 2.36MB/s]\n",
      " 64%|██████▍   | 2.00M/3.13M [00:00<00:00, 3.12MB/s]\n",
      " 96%|█████████▌| 3.00M/3.13M [00:00<00:00, 3.48MB/s]\n",
      "100%|██████████| 3.13M/3.13M [00:01<00:00, 3.25MB/s]\n"
     ]
    }
   ],
   "source": [
    "# Download data\n",
    "! kaggle datasets download -d kamilpytlak/personal-key-indicators-of-heart-disease"
   ]
  },
  {
   "cell_type": "code",
   "execution_count": 8,
   "metadata": {},
   "outputs": [],
   "source": [
    "# Unzip the downloaded file\n",
    "path= r'C:\\Users\\DELL\\Python files\\Heart attack prediction\\personal-key-indicators-of-heart-disease.zip'\n",
    "with zipfile.ZipFile(path,'r') as ref:\n",
    "    ref.extractall()"
   ]
  },
  {
   "cell_type": "code",
   "execution_count": 440,
   "metadata": {},
   "outputs": [
    {
     "data": {
      "text/html": [
       "<div>\n",
       "<style scoped>\n",
       "    .dataframe tbody tr th:only-of-type {\n",
       "        vertical-align: middle;\n",
       "    }\n",
       "\n",
       "    .dataframe tbody tr th {\n",
       "        vertical-align: top;\n",
       "    }\n",
       "\n",
       "    .dataframe thead th {\n",
       "        text-align: right;\n",
       "    }\n",
       "</style>\n",
       "<table border=\"1\" class=\"dataframe\">\n",
       "  <thead>\n",
       "    <tr style=\"text-align: right;\">\n",
       "      <th></th>\n",
       "      <th>HeartDisease</th>\n",
       "      <th>BMI</th>\n",
       "      <th>Smoking</th>\n",
       "      <th>AlcoholDrinking</th>\n",
       "      <th>Stroke</th>\n",
       "      <th>PhysicalHealth</th>\n",
       "      <th>MentalHealth</th>\n",
       "      <th>DiffWalking</th>\n",
       "      <th>Sex</th>\n",
       "      <th>AgeCategory</th>\n",
       "      <th>Race</th>\n",
       "      <th>Diabetic</th>\n",
       "      <th>PhysicalActivity</th>\n",
       "      <th>GenHealth</th>\n",
       "      <th>SleepTime</th>\n",
       "      <th>Asthma</th>\n",
       "      <th>KidneyDisease</th>\n",
       "      <th>SkinCancer</th>\n",
       "    </tr>\n",
       "  </thead>\n",
       "  <tbody>\n",
       "    <tr>\n",
       "      <th>0</th>\n",
       "      <td>No</td>\n",
       "      <td>16.60</td>\n",
       "      <td>Yes</td>\n",
       "      <td>No</td>\n",
       "      <td>No</td>\n",
       "      <td>3.0</td>\n",
       "      <td>30.0</td>\n",
       "      <td>No</td>\n",
       "      <td>Female</td>\n",
       "      <td>55-59</td>\n",
       "      <td>White</td>\n",
       "      <td>Yes</td>\n",
       "      <td>Yes</td>\n",
       "      <td>Very good</td>\n",
       "      <td>5.0</td>\n",
       "      <td>Yes</td>\n",
       "      <td>No</td>\n",
       "      <td>Yes</td>\n",
       "    </tr>\n",
       "    <tr>\n",
       "      <th>1</th>\n",
       "      <td>No</td>\n",
       "      <td>20.34</td>\n",
       "      <td>No</td>\n",
       "      <td>No</td>\n",
       "      <td>Yes</td>\n",
       "      <td>0.0</td>\n",
       "      <td>0.0</td>\n",
       "      <td>No</td>\n",
       "      <td>Female</td>\n",
       "      <td>80 or older</td>\n",
       "      <td>White</td>\n",
       "      <td>No</td>\n",
       "      <td>Yes</td>\n",
       "      <td>Very good</td>\n",
       "      <td>7.0</td>\n",
       "      <td>No</td>\n",
       "      <td>No</td>\n",
       "      <td>No</td>\n",
       "    </tr>\n",
       "    <tr>\n",
       "      <th>2</th>\n",
       "      <td>No</td>\n",
       "      <td>26.58</td>\n",
       "      <td>Yes</td>\n",
       "      <td>No</td>\n",
       "      <td>No</td>\n",
       "      <td>20.0</td>\n",
       "      <td>30.0</td>\n",
       "      <td>No</td>\n",
       "      <td>Male</td>\n",
       "      <td>65-69</td>\n",
       "      <td>White</td>\n",
       "      <td>Yes</td>\n",
       "      <td>Yes</td>\n",
       "      <td>Fair</td>\n",
       "      <td>8.0</td>\n",
       "      <td>Yes</td>\n",
       "      <td>No</td>\n",
       "      <td>No</td>\n",
       "    </tr>\n",
       "  </tbody>\n",
       "</table>\n",
       "</div>"
      ],
      "text/plain": [
       "  HeartDisease    BMI Smoking AlcoholDrinking Stroke  PhysicalHealth  \\\n",
       "0           No  16.60     Yes              No     No             3.0   \n",
       "1           No  20.34      No              No    Yes             0.0   \n",
       "2           No  26.58     Yes              No     No            20.0   \n",
       "\n",
       "   MentalHealth DiffWalking     Sex  AgeCategory   Race Diabetic  \\\n",
       "0          30.0          No  Female        55-59  White      Yes   \n",
       "1           0.0          No  Female  80 or older  White       No   \n",
       "2          30.0          No    Male        65-69  White      Yes   \n",
       "\n",
       "  PhysicalActivity  GenHealth  SleepTime Asthma KidneyDisease SkinCancer  \n",
       "0              Yes  Very good        5.0    Yes            No        Yes  \n",
       "1              Yes  Very good        7.0     No            No         No  \n",
       "2              Yes       Fair        8.0    Yes            No         No  "
      ]
     },
     "execution_count": 440,
     "metadata": {},
     "output_type": "execute_result"
    }
   ],
   "source": [
    "# Load data\n",
    "path= r'C:\\Users\\DELL\\Python files\\Heart attack prediction\\heart_2020_cleaned.csv'\n",
    "df= pd.read_csv(path)\n",
    "# Get brief look\n",
    "df.head(3)"
   ]
  },
  {
   "cell_type": "code",
   "execution_count": 3,
   "metadata": {},
   "outputs": [
    {
     "name": "stdout",
     "output_type": "stream",
     "text": [
      "Data dimensions\n",
      "No of rows: 319795\n",
      "No of columns: 18\n"
     ]
    }
   ],
   "source": [
    "# Data dimensions\n",
    "print('Data dimensions')\n",
    "print('No of rows: {}'.format(df.shape[0]))\n",
    "print('No of columns: {}'.format(df.shape[1]))"
   ]
  },
  {
   "cell_type": "code",
   "execution_count": 441,
   "metadata": {},
   "outputs": [],
   "source": [
    "# Data preparation and cleaning\n",
    "df.columns= df.columns.str.lower()"
   ]
  },
  {
   "cell_type": "markdown",
   "metadata": {},
   "source": [
    "## EDA:"
   ]
  },
  {
   "cell_type": "code",
   "execution_count": 19,
   "metadata": {},
   "outputs": [
    {
     "data": {
      "image/png": "[encoded data removed]",
      "text/plain": [
       "<Figure size 432x288 with 1 Axes>"
      ]
     },
     "metadata": {},
     "output_type": "display_data"
    }
   ],
   "source": [
    "df.heartdisease.value_counts().plot(kind='pie', autopct='%.1f%%', textprops= {'size':12})\n",
    "plt.ylabel('')\n",
    "plt.title('Has Heart disease?')\n",
    "plt.show()"
   ]
  },
  {
   "cell_type": "code",
   "execution_count": 30,
   "metadata": {},
   "outputs": [
    {
     "data": {
      "text/plain": [
       "Text(0.5, 1.0, 'BMI vs Heart Disease')"
      ]
     },
     "execution_count": 30,
     "metadata": {},
     "output_type": "execute_result"
    },
    {
     "data": {
      "image/png": "[encoded data removed]",
      "text/plain": [
       "<Figure size 432x288 with 1 Axes>"
      ]
     },
     "metadata": {
      "needs_background": "light"
     },
     "output_type": "display_data"
    }
   ],
   "source": [
    "plt.hist(df.bmi[df.heartdisease=='Yes'], label='Yes',alpha= 0.8)\n",
    "plt.hist(df.bmi[df.heartdisease=='No'], label='No', alpha=0.5)\n",
    "plt.legend()\n",
    "plt.title('BMI vs Heart Disease')"
   ]
  },
  {
   "cell_type": "code",
   "execution_count": 39,
   "metadata": {},
   "outputs": [
    {
     "data": {
      "text/plain": [
       "Text(0.5, 1.0, 'BMI')"
      ]
     },
     "execution_count": 39,
     "metadata": {},
     "output_type": "execute_result"
    },
    {
     "data": {
      "image/png": "[encoded data removed]",
      "text/plain": [
       "<Figure size 432x288 with 1 Axes>"
      ]
     },
     "metadata": {
      "needs_background": "light"
     },
     "output_type": "display_data"
    }
   ],
   "source": [
    "sns.distplot(df.bmi, bins=20, hist_kws= {'edgecolor':'black'}, kde_kws= {'lw':3, 'color':'black'})\n",
    "plt.title('BMI')"
   ]
  },
  {
   "cell_type": "code",
   "execution_count": 59,
   "metadata": {},
   "outputs": [
    {
     "data": {
      "text/plain": [
       "(25.0, 30.0)"
      ]
     },
     "execution_count": 59,
     "metadata": {},
     "output_type": "execute_result"
    },
    {
     "data": {
      "image/png": "[encoded data removed]",
      "text/plain": [
       "<Figure size 432x288 with 1 Axes>"
      ]
     },
     "metadata": {
      "needs_background": "light"
     },
     "output_type": "display_data"
    }
   ],
   "source": [
    "df.groupby('agecategory').bmi.mean().plot(kind='bar')\n",
    "plt.ylim(25,30)"
   ]
  },
  {
   "cell_type": "code",
   "execution_count": 74,
   "metadata": {},
   "outputs": [
    {
     "data": {
      "text/plain": [
       "<AxesSubplot:xlabel='heartdisease', ylabel='smoking'>"
      ]
     },
     "execution_count": 74,
     "metadata": {},
     "output_type": "execute_result"
    },
    {
     "data": {
      "image/png": "[encoded data removed]",
      "text/plain": [
       "<Figure size 432x288 with 2 Axes>"
      ]
     },
     "metadata": {
      "needs_background": "light"
     },
     "output_type": "display_data"
    }
   ],
   "source": [
    "sns.heatmap(pd.crosstab(df.smoking, df.heartdisease, normalize='index'), annot=True, fmt='.1%')"
   ]
  },
  {
   "cell_type": "code",
   "execution_count": 78,
   "metadata": {},
   "outputs": [
    {
     "data": {
      "text/html": [
       "<div>\n",
       "<style scoped>\n",
       "    .dataframe tbody tr th:only-of-type {\n",
       "        vertical-align: middle;\n",
       "    }\n",
       "\n",
       "    .dataframe tbody tr th {\n",
       "        vertical-align: top;\n",
       "    }\n",
       "\n",
       "    .dataframe thead th {\n",
       "        text-align: right;\n",
       "    }\n",
       "</style>\n",
       "<table border=\"1\" class=\"dataframe\">\n",
       "  <thead>\n",
       "    <tr style=\"text-align: right;\">\n",
       "      <th>heartdisease</th>\n",
       "      <th>No</th>\n",
       "      <th>Yes</th>\n",
       "    </tr>\n",
       "    <tr>\n",
       "      <th>stroke</th>\n",
       "      <th></th>\n",
       "      <th></th>\n",
       "    </tr>\n",
       "  </thead>\n",
       "  <tbody>\n",
       "    <tr>\n",
       "      <th>No</th>\n",
       "      <td>0.973737</td>\n",
       "      <td>0.83966</td>\n",
       "    </tr>\n",
       "    <tr>\n",
       "      <th>Yes</th>\n",
       "      <td>0.026263</td>\n",
       "      <td>0.16034</td>\n",
       "    </tr>\n",
       "  </tbody>\n",
       "</table>\n",
       "</div>"
      ],
      "text/plain": [
       "heartdisease        No      Yes\n",
       "stroke                         \n",
       "No            0.973737  0.83966\n",
       "Yes           0.026263  0.16034"
      ]
     },
     "execution_count": 78,
     "metadata": {},
     "output_type": "execute_result"
    }
   ],
   "source": [
    "pd.crosstab(df.stroke,df.heartdisease, normalize='columns')"
   ]
  },
  {
   "cell_type": "code",
   "execution_count": 82,
   "metadata": {},
   "outputs": [
    {
     "data": {
      "text/plain": [
       "<matplotlib.collections.PathCollection at 0x1f44d6cd190>"
      ]
     },
     "execution_count": 82,
     "metadata": {},
     "output_type": "execute_result"
    },
    {
     "data": {
      "image/png": "[encoded data removed]",
      "text/plain": [
       "<Figure size 432x288 with 1 Axes>"
      ]
     },
     "metadata": {
      "needs_background": "light"
     },
     "output_type": "display_data"
    }
   ],
   "source": [
    "plt.scatter(df.bmi, df.sleeptime, alpha=0.3)"
   ]
  },
  {
   "cell_type": "code",
   "execution_count": 94,
   "metadata": {},
   "outputs": [
    {
     "data": {
      "image/png": "[encoded data removed]",
      "text/plain": [
       "<Figure size 432x288 with 1 Axes>"
      ]
     },
     "metadata": {
      "needs_background": "light"
     },
     "output_type": "display_data"
    }
   ],
   "source": [
    "df.groupby('race').heartdisease.value_counts(normalize=True).unstack()['Yes'].sort_values().plot(kind='barh')\n",
    "plt.show()"
   ]
  },
  {
   "cell_type": "markdown",
   "metadata": {},
   "source": [
    "## Prediction"
   ]
  },
  {
   "cell_type": "code",
   "execution_count": 5,
   "metadata": {},
   "outputs": [],
   "source": [
    "def find_outliers(series):\n",
    "    q1= series.quantile(0.25)\n",
    "    q3= series.quantile(0.75)\n",
    "    iqr= q3-q1\n",
    "    li= q1 - (1.5*iqr)\n",
    "    ri= q3 + (1.5*iqr)\n",
    "    return (series < li) | (series > ri)"
   ]
  },
  {
   "cell_type": "code",
   "execution_count": 51,
   "metadata": {},
   "outputs": [],
   "source": [
    "class CustomEncoder:\n",
    "    def __init__(self, columns=None):\n",
    "        self.columns= columns\n",
    "    \n",
    "    def fit(self, X, y=None):\n",
    "        return self\n",
    "    \n",
    "    def transform(self, X):\n",
    "        from sklearn.preprocessing import LabelEncoder\n",
    "        if self.columns is not None:\n",
    "            X[self.columns]= X[self.columns].apply(LabelEncoder().fit_transform)\n",
    "        else:\n",
    "            X= X.apply(LabelEncoder().fit_transform)\n",
    "        return X\n",
    "    \n",
    "    def fit_transform(self, X,y=None):\n",
    "        return self.fit(X).transform(X)"
   ]
  },
  {
   "cell_type": "code",
   "execution_count": 175,
   "metadata": {},
   "outputs": [],
   "source": [
    "def body_type(x):\n",
    "    if x <= 18.5: return 'Underweight'\n",
    "    elif (x > 18.5) & (x <= 24.9): return 'Healthy weight'\n",
    "    elif (x >= 25) & (x <= 29): return 'Overweight'\n",
    "    elif (x >= 29.1) & (x <= 35): return 'Obese'\n",
    "    else: return 'Extremely obese'"
   ]
  },
  {
   "cell_type": "code",
   "execution_count": 674,
   "metadata": {},
   "outputs": [
    {
     "data": {
      "text/html": [
       "<div>\n",
       "<style scoped>\n",
       "    .dataframe tbody tr th:only-of-type {\n",
       "        vertical-align: middle;\n",
       "    }\n",
       "\n",
       "    .dataframe tbody tr th {\n",
       "        vertical-align: top;\n",
       "    }\n",
       "\n",
       "    .dataframe thead th {\n",
       "        text-align: right;\n",
       "    }\n",
       "</style>\n",
       "<table border=\"1\" class=\"dataframe\">\n",
       "  <thead>\n",
       "    <tr style=\"text-align: right;\">\n",
       "      <th></th>\n",
       "      <th>heartdisease</th>\n",
       "      <th>bmi</th>\n",
       "      <th>smoking</th>\n",
       "      <th>alcoholdrinking</th>\n",
       "      <th>stroke</th>\n",
       "      <th>physicalhealth</th>\n",
       "      <th>mentalhealth</th>\n",
       "      <th>diffwalking</th>\n",
       "      <th>sex</th>\n",
       "      <th>agecategory</th>\n",
       "      <th>race</th>\n",
       "      <th>diabetic</th>\n",
       "      <th>physicalactivity</th>\n",
       "      <th>genhealth</th>\n",
       "      <th>sleeptime</th>\n",
       "      <th>asthma</th>\n",
       "      <th>kidneydisease</th>\n",
       "      <th>skincancer</th>\n",
       "    </tr>\n",
       "  </thead>\n",
       "  <tbody>\n",
       "    <tr>\n",
       "      <th>0</th>\n",
       "      <td>0</td>\n",
       "      <td>16.60</td>\n",
       "      <td>1</td>\n",
       "      <td>0</td>\n",
       "      <td>0</td>\n",
       "      <td>3.0</td>\n",
       "      <td>30.0</td>\n",
       "      <td>0</td>\n",
       "      <td>0</td>\n",
       "      <td>7</td>\n",
       "      <td>5</td>\n",
       "      <td>2</td>\n",
       "      <td>1</td>\n",
       "      <td>4</td>\n",
       "      <td>5.0</td>\n",
       "      <td>1</td>\n",
       "      <td>0</td>\n",
       "      <td>1</td>\n",
       "    </tr>\n",
       "    <tr>\n",
       "      <th>1</th>\n",
       "      <td>0</td>\n",
       "      <td>20.34</td>\n",
       "      <td>0</td>\n",
       "      <td>0</td>\n",
       "      <td>1</td>\n",
       "      <td>0.0</td>\n",
       "      <td>0.0</td>\n",
       "      <td>0</td>\n",
       "      <td>0</td>\n",
       "      <td>12</td>\n",
       "      <td>5</td>\n",
       "      <td>0</td>\n",
       "      <td>1</td>\n",
       "      <td>4</td>\n",
       "      <td>7.0</td>\n",
       "      <td>0</td>\n",
       "      <td>0</td>\n",
       "      <td>0</td>\n",
       "    </tr>\n",
       "    <tr>\n",
       "      <th>2</th>\n",
       "      <td>0</td>\n",
       "      <td>26.58</td>\n",
       "      <td>1</td>\n",
       "      <td>0</td>\n",
       "      <td>0</td>\n",
       "      <td>20.0</td>\n",
       "      <td>30.0</td>\n",
       "      <td>0</td>\n",
       "      <td>1</td>\n",
       "      <td>9</td>\n",
       "      <td>5</td>\n",
       "      <td>2</td>\n",
       "      <td>1</td>\n",
       "      <td>1</td>\n",
       "      <td>8.0</td>\n",
       "      <td>1</td>\n",
       "      <td>0</td>\n",
       "      <td>0</td>\n",
       "    </tr>\n",
       "  </tbody>\n",
       "</table>\n",
       "</div>"
      ],
      "text/plain": [
       "   heartdisease    bmi  smoking  alcoholdrinking  stroke  physicalhealth  \\\n",
       "0             0  16.60        1                0       0             3.0   \n",
       "1             0  20.34        0                0       1             0.0   \n",
       "2             0  26.58        1                0       0            20.0   \n",
       "\n",
       "   mentalhealth  diffwalking  sex  agecategory  race  diabetic  \\\n",
       "0          30.0            0    0            7     5         2   \n",
       "1           0.0            0    0           12     5         0   \n",
       "2          30.0            0    1            9     5         2   \n",
       "\n",
       "   physicalactivity  genhealth  sleeptime  asthma  kidneydisease  skincancer  \n",
       "0                 1          4        5.0       1              0           1  \n",
       "1                 1          4        7.0       0              0           0  \n",
       "2                 1          1        8.0       1              0           0  "
      ]
     },
     "execution_count": 674,
     "metadata": {},
     "output_type": "execute_result"
    }
   ],
   "source": [
    "dummy= df.copy()\n",
    "dummy= CustomEncoder(columns= dummy.select_dtypes('O').columns).fit_transform(dummy)\n",
    "dummy.head(3)"
   ]
  },
  {
   "cell_type": "code",
   "execution_count": 443,
   "metadata": {},
   "outputs": [
    {
     "data": {
      "text/plain": [
       "<AxesSubplot:>"
      ]
     },
     "execution_count": 443,
     "metadata": {},
     "output_type": "execute_result"
    },
    {
     "data": {
      "image/png": "[encoded data removed]",
      "text/plain": [
       "<Figure size 432x288 with 1 Axes>"
      ]
     },
     "metadata": {
      "needs_background": "light"
     },
     "output_type": "display_data"
    }
   ],
   "source": [
    "corr= dummy.corr()\n",
    "corr['heartdisease'].drop('heartdisease').sort_values().plot(kind='barh')"
   ]
  },
  {
   "cell_type": "code",
   "execution_count": 545,
   "metadata": {},
   "outputs": [],
   "source": [
    "from sklearn import metrics as mt\n",
    "from sklearn.linear_model import LogisticRegression\n",
    "from sklearn.ensemble import RandomForestClassifier, AdaBoostClassifier, GradientBoostingClassifier\n",
    "from sklearn.tree import DecisionTreeClassifier\n",
    "from sklearn.neighbors import KNeighborsClassifier\n",
    "from sklearn.model_selection import train_test_split, learning_curve, cross_validate\n",
    "from sklearn.pipeline import Pipeline\n",
    "from sklearn.preprocessing import StandardScaler, RobustScaler, PolynomialFeatures, MinMaxScaler\n",
    "from imblearn.under_sampling import RandomUnderSampler\n",
    "from catboost import CatBoostClassifier\n",
    "from xgboost import XGBClassifier\n",
    "from lightgbm import LGBMClassifier\n",
    "import time"
   ]
  },
  {
   "cell_type": "code",
   "execution_count": 744,
   "metadata": {},
   "outputs": [],
   "source": [
    "X= df.drop('heartdisease', axis=1)\n",
    "y= df.heartdisease.map({'Yes':1, 'No':0})"
   ]
  },
  {
   "cell_type": "code",
   "execution_count": 745,
   "metadata": {},
   "outputs": [],
   "source": [
    "import pickle\n",
    "with open('df.pkl' ,'wb') as ref:\n",
    "    pickle.dump(X, ref) "
   ]
  },
  {
   "cell_type": "code",
   "execution_count": 717,
   "metadata": {},
   "outputs": [],
   "source": [
    "# Removing outliers from bmi\n",
    "y= y[~find_outliers(X.bmi)]\n",
    "X= X[~find_outliers(X.bmi)]\n",
    "\n",
    "X.mentalhealth= np.log(X.mentalhealth)\n",
    "X.mentalhealth.where(X.mentalhealth != -np.inf, 0, inplace=True)\n",
    "\n",
    "X.physicalhealth= np.log(X.physicalhealth)\n",
    "X.physicalhealth.where(X.physicalhealth != -np.inf, 0, inplace=True)\n",
    "\n",
    "# cols_to_drop= ['race','asthma']\n",
    "# X.drop(columns=cols_to_drop, axis=1, inplace=True)\n",
    "X= pd.get_dummies(X, columns= ['race','genhealth','agecategory'], drop_first=True)"
   ]
  },
  {
   "cell_type": "code",
   "execution_count": 718,
   "metadata": {},
   "outputs": [],
   "source": [
    "ruf= RandomUnderSampler()\n",
    "X1,y1= ruf.fit_resample(X,y)"
   ]
  },
  {
   "cell_type": "code",
   "execution_count": 719,
   "metadata": {},
   "outputs": [],
   "source": [
    "X_train, X_test, y_train, y_test= train_test_split(X1, y1, test_size=.20, stratify= X1['stroke'])"
   ]
  },
  {
   "cell_type": "code",
   "execution_count": 458,
   "metadata": {},
   "outputs": [],
   "source": [
    "model_dict= {'Logistic Regression': LogisticRegression(),\n",
    "            'K-Nearest neighbors': KNeighborsClassifier(),\n",
    "            'Decision Tree': DecisionTreeClassifier(),\n",
    "            'Random Forest': RandomForestClassifier(),\n",
    "            'Ada Boost': AdaBoostClassifier(),\n",
    "            'Gradient Boost': GradientBoostingClassifier()}"
   ]
  },
  {
   "cell_type": "code",
   "execution_count": 540,
   "metadata": {},
   "outputs": [],
   "source": [
    "def train_multiple_models(model_dict,X,y,scoring,cv=3):\n",
    "    from tqdm import tqdm\n",
    "    scores= pd.DataFrame()\n",
    "    for name, est in tqdm(model_dict.items()):\n",
    "        steps= [('le',CustomEncoder(columns= X.select_dtypes('O').columns)), ('sc', StandardScaler()),  ('estimator',est)]\n",
    "        pipe= Pipeline(steps= steps)\n",
    "        cv_scores= cross_validate(estimator=pipe, X= X, y=y, cv= cv, return_train_score=True,scoring=scoring)\n",
    "        cv_scores= pd.DataFrame(cv_scores)\n",
    "        cv_scores['estimator']= name\n",
    "        scores= scores.append(cv_scores, ignore_index=True)\n",
    "    return scores"
   ]
  },
  {
   "cell_type": "code",
   "execution_count": 332,
   "metadata": {},
   "outputs": [],
   "source": [
    "# multiple_model_scores= train_multiple_models(model_dict=model_dict, X=X_train, y= y_train,cv=3, scoring=['recall','precision','accuracy'])\n",
    "# multiple_model_scores.groupby('estimator').train_accuracy.mean().sort_values().plot(marker='o', markersize= 10, lw=3, label='Train')\n",
    "# multiple_model_scores.groupby('estimator').test_accuracy.mean().sort_values().plot(marker='o', markersize= 10, lw=3, label='Test')\n",
    "# plt.xticks(rotation= 90)\n",
    "# plt.legend()\n",
    "# plt.title('Evaluation metrics for multiple models')\n",
    "# plt.show()"
   ]
  },
  {
   "cell_type": "code",
   "execution_count": 738,
   "metadata": {},
   "outputs": [
    {
     "name": "stdout",
     "output_type": "stream",
     "text": [
      "Model trained successfully in 21.048 second(s).\n"
     ]
    }
   ],
   "source": [
    "steps= [('le',CustomEncoder(columns= X.select_dtypes('O').columns)), ('sc', StandardScaler()), \n",
    "        ('estimator',CatBoostClassifier(silent=True, learning_rate=0.01, l2_leaf_reg=3,max_depth= 7,\n",
    "                                        n_estimators= 500, border_count= 64,od_type='Iter', od_wait=2,\n",
    "                                        random_strength=0.70))]\n",
    "pipe= Pipeline(steps= steps)\n",
    "\n",
    "start= time.time()\n",
    "pipe.fit(X_train, y_train)\n",
    "end= time.time()\n",
    "print('Model trained successfully in %.3f second(s).'%(end-start))"
   ]
  },
  {
   "cell_type": "code",
   "execution_count": 739,
   "metadata": {},
   "outputs": [
    {
     "name": "stdout",
     "output_type": "stream",
     "text": [
      "Training Recall: 78.29% & Precision: 75.88%\n",
      "Test Recall: 78.02% & Precision: 75.69%\n",
      "Training F1-score: 0.77\n",
      "Test F1-score: 0.77\n"
     ]
    }
   ],
   "source": [
    "# Predictions for training and test set\n",
    "pred_train, pred_test= pipe.predict(X_train),pipe.predict(X_test)\n",
    "print(f'Training Recall: {mt.recall_score(y_train, pred_train):.2%} & Precision: {mt.precision_score(y_train, pred_train):.2%}')\n",
    "print(f'Test Recall: {mt.recall_score(y_test, pred_test):.2%} & Precision: {mt.precision_score(y_test, pred_test):.2%}')\n",
    "\n",
    "print(f'Training F1-score: {mt.f1_score(y_train, pred_train):.2f}')\n",
    "print(f'Test F1-score: {mt.f1_score(y_test, pred_test):.2f}')"
   ]
  },
  {
   "cell_type": "code",
   "execution_count": 740,
   "metadata": {},
   "outputs": [
    {
     "data": {
      "text/plain": [
       "<AxesSubplot:>"
      ]
     },
     "execution_count": 740,
     "metadata": {},
     "output_type": "execute_result"
    },
    {
     "data": {
      "image/png": "[encoded data removed]",
      "text/plain": [
       "<Figure size 1008x360 with 3 Axes>"
      ]
     },
     "metadata": {
      "needs_background": "light"
     },
     "output_type": "display_data"
    }
   ],
   "source": [
    "pred_prob= pipe.predict_proba(X_test)[:,1]\n",
    "fpr, tpr, thresholds= mt.roc_curve(y_test, pred_prob)\n",
    "\n",
    "pred= pipe.predict(X[:100])\n",
    "conf_matrix= mt.confusion_matrix(y_test, pred_test).astype(float)\n",
    "conf_matrix[0,:]= conf_matrix[0,:]/conf_matrix[0,:].sum()\n",
    "conf_matrix[1,:]= conf_matrix[1,:]/conf_matrix[1,:].sum()\n",
    "\n",
    "plt.figure(figsize= (14,5))\n",
    "plt.subplot(121)\n",
    "plt.plot(fpr, tpr, label= 'ROC-AUC Score: %.3f'%(mt.roc_auc_score(y_test, pred_prob)))\n",
    "plt.legend()\n",
    "plt.title('ROC Curve')\n",
    "\n",
    "\n",
    "plt.subplot(122)\n",
    "sns.heatmap(conf_matrix, annot=True, fmt='.1%')"
   ]
  },
  {
   "cell_type": "code",
   "execution_count": 742,
   "metadata": {},
   "outputs": [],
   "source": [
    "import pickle\n",
    "with open('model.pkl' ,'wb') as ref:\n",
    "    pickle.dump(pipe, ref) "
   ]
  },
  {
   "cell_type": "code",
   "execution_count": 761,
   "metadata": {},
   "outputs": [],
   "source": [
    "import streamlit as st"
   ]
  },
  {
   "cell_type": "code",
   "execution_count": 766,
   "metadata": {},
   "outputs": [
    {
     "name": "stdout",
     "output_type": "stream",
     "text": [
      "\u001b[1;31mSignature:\u001b[0m\n",
      "\u001b[0mst\u001b[0m\u001b[1;33m.\u001b[0m\u001b[0mset_page_config\u001b[0m\u001b[1;33m(\u001b[0m\u001b[1;33m\n",
      "\u001b[0m    \u001b[0mpage_title\u001b[0m\u001b[1;33m=\u001b[0m\u001b[1;32mNone\u001b[0m\u001b[1;33m,\u001b[0m\u001b[1;33m\n",
      "\u001b[0m    \u001b[0mpage_icon\u001b[0m\u001b[1;33m=\u001b[0m\u001b[1;32mNone\u001b[0m\u001b[1;33m,\u001b[0m\u001b[1;33m\n",
      "\u001b[0m    \u001b[0mlayout\u001b[0m\u001b[1;33m=\u001b[0m\u001b[1;34m'centered'\u001b[0m\u001b[1;33m,\u001b[0m\u001b[1;33m\n",
      "\u001b[0m    \u001b[0minitial_sidebar_state\u001b[0m\u001b[1;33m=\u001b[0m\u001b[1;34m'auto'\u001b[0m\u001b[1;33m,\u001b[0m\u001b[1;33m\n",
      "\u001b[0m    \u001b[0mmenu_items\u001b[0m\u001b[1;33m=\u001b[0m\u001b[1;32mNone\u001b[0m\u001b[1;33m,\u001b[0m\u001b[1;33m\n",
      "\u001b[0m\u001b[1;33m)\u001b[0m\u001b[1;33m\u001b[0m\u001b[1;33m\u001b[0m\u001b[0m\n",
      "\u001b[1;31mDocstring:\u001b[0m\n",
      "Configures the default settings of the page.\n",
      "\n",
      ".. note::\n",
      "    This must be the first Streamlit command used in your app, and must only\n",
      "    be set once.\n",
      "\n",
      "Parameters\n",
      "----------\n",
      "page_title: str or None\n",
      "    The page title, shown in the browser tab. If None, defaults to the\n",
      "    filename of the script (\"app.py\" would show \"app • Streamlit\").\n",
      "page_icon : Anything supported by st.image or str or None\n",
      "    The page favicon.\n",
      "    Besides the types supported by `st.image` (like URLs or numpy arrays),\n",
      "    you can pass in an emoji as a string (\"🦈\") or a shortcode (\":shark:\").\n",
      "    If you're feeling lucky, try \"random\" for a random emoji!\n",
      "    Emoji icons are courtesy of Twemoji and loaded from MaxCDN.\n",
      "layout: \"centered\" or \"wide\"\n",
      "    How the page content should be laid out. Defaults to \"centered\",\n",
      "    which constrains the elements into a centered column of fixed width;\n",
      "    \"wide\" uses the entire screen.\n",
      "initial_sidebar_state: \"auto\" or \"expanded\" or \"collapsed\"\n",
      "    How the sidebar should start out. Defaults to \"auto\",\n",
      "    which hides the sidebar on mobile-sized devices, and shows it otherwise.\n",
      "    \"expanded\" shows the sidebar initially; \"collapsed\" hides it.\n",
      "menu_items: dict\n",
      "    Configure the menu that appears on the top-right side of this app.\n",
      "    The keys in this dict denote the menu item you'd like to configure:\n",
      "\n",
      "    - \"Get help\": str or None\n",
      "        The URL this menu item should point to.\n",
      "        If None, hides this menu item.\n",
      "    - \"Report a Bug\": str or None\n",
      "        The URL this menu item should point to.\n",
      "        If None, hides this menu item.\n",
      "    - \"About\": str or None\n",
      "        A markdown string to show in the About dialog.\n",
      "        If None, only shows Streamlit's default About text.\n",
      "\n",
      "\n",
      "Example\n",
      "-------\n",
      ">>> st.set_page_config(\n",
      "...     page_title=\"Ex-stream-ly Cool App\",\n",
      "...     page_icon=\"🧊\",\n",
      "...     layout=\"wide\",\n",
      "...     initial_sidebar_state=\"expanded\",\n",
      "...     menu_items={\n",
      "...         'Get Help': 'https://www.extremelycoolapp.com/help',\n",
      "...         'Report a bug': \"https://www.extremelycoolapp.com/bug\",\n",
      "...         'About': \"# This is a header. This is an *extremely* cool app!\"\n",
      "...     }\n",
      "... )\n",
      "\u001b[1;31mFile:\u001b[0m      c:\\users\\dell\\appdata\\local\\programs\\python\\python39\\lib\\site-packages\\streamlit\\commands\\page_config.py\n",
      "\u001b[1;31mType:\u001b[0m      function\n"
     ]
    }
   ],
   "source": [
    "st.set_page_config?"
   ]
  }
 ],
 "metadata": {
  "kernelspec": {
   "display_name": "Python 3.9.5 64-bit",
   "language": "python",
   "name": "python3"
  },
  "language_info": {
   "codemirror_mode": {
    "name": "ipython",
    "version": 3
   },
   "file_extension": ".py",
   "mimetype": "text/x-python",
   "name": "python",
   "nbconvert_exporter": "python",
   "pygments_lexer": "ipython3",
   "version": "3.9.5"
  },
  "orig_nbformat": 4,
  "vscode": {
   "interpreter": {
    "hash": "5addf786bcd861d1ce5006f23111f8cbb206731e5b61b0a5632ba9e0252558a8"
   }
  }
 },
 "nbformat": 4,
 "nbformat_minor": 2
}
